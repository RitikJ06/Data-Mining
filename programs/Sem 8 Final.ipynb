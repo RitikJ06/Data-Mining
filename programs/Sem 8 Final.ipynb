{
 "cells": [
  {
   "cell_type": "markdown",
   "id": "fb142b5e",
   "metadata": {},
   "source": [
    "## Assignment\n",
    "\n",
    "#### Name: Ritik Jangid\n",
    "#### Enrolment No.: 2018IMSCS017"
   ]
  },
  {
   "cell_type": "markdown",
   "id": "c257ca86",
   "metadata": {},
   "source": [
    "### 1. Naïve Bayes Algorithm for Classification"
   ]
  },
  {
   "cell_type": "code",
   "execution_count": 1,
   "id": "91d9d6d3",
   "metadata": {},
   "outputs": [
    {
     "name": "stdout",
     "output_type": "stream",
     "text": [
      "Gaussian Naive Bayes model accuracy(in %): 97.36842105263158\n"
     ]
    }
   ],
   "source": [
    "import numpy as np\n",
    "# load the iris dataset\n",
    "from sklearn.datasets import load_iris\n",
    "iris = load_iris()\n",
    "\n",
    "# store the feature matrix (x) and response vector (y)\n",
    "x = iris.data\n",
    "y = iris.target\n",
    "\n",
    "# splitting X and y into training and testing sets\n",
    "from sklearn.model_selection import train_test_split\n",
    "X_train, X_test, y_train, y_test = train_test_split(x, y, test_size=0.25, random_state=1)\n",
    "\n",
    "# training the model on training set\n",
    "from sklearn.naive_bayes import GaussianNB\n",
    "gnb = GaussianNB()\n",
    "gnb.fit(X_train, y_train)\n",
    "\n",
    "# making predictions on the testing set\n",
    "y_pred = gnb.predict(X_test)\n",
    "\n",
    "# comparing actual response values (y_test) with predicted response values (y_pred)\n",
    "from sklearn import metrics\n",
    "print(\"Gaussian Naive Bayes model accuracy(in %):\", metrics.accuracy_score(y_test, y_pred)*100)\n"
   ]
  },
  {
   "cell_type": "markdown",
   "id": "9d1c00db",
   "metadata": {},
   "source": [
    "### 2. Perceptron Learning Algorithm"
   ]
  },
  {
   "cell_type": "code",
   "execution_count": 2,
   "id": "a168022b",
   "metadata": {},
   "outputs": [],
   "source": [
    "import numpy as np\n",
    "\n",
    "\n",
    "class Perceptron:\n",
    "    def __init__(self, max_iters=100, learning_rate = 0.1):\n",
    "        # initialize maxinum iterations\n",
    "        self.max_iters = max_iters\n",
    "        self.learning_rate = learning_rate\n",
    "    \n",
    "    \n",
    "    def fit(self, x, y):\n",
    "        # convert x and y to np array\n",
    "        x, y = np.asarray(x), np.asarray(y)\n",
    "        iters = 0\n",
    "        \n",
    "        # Initialize random weights\n",
    "        w = np.random.random(x.shape[1])        \n",
    "        \n",
    "        for i in range(self.max_iters):\n",
    "            y_pred_all = []\n",
    "            for idx in range(x.shape[0]):\n",
    "                x_sample, y_sample = x[idx], y[idx]\n",
    "                y_pred = int(np.sum(w * x_sample) >= 0.5)\n",
    "                if y_pred == y_sample:\n",
    "                    pass\n",
    "                elif y_pred == 0 and y_sample == 1:\n",
    "                    w = w + self.learning_rate * x_sample\n",
    "                elif y_pred == 1 and y_sample == 0:\n",
    "                    w = w - self.learning_rate * x_sample\n",
    "                \n",
    "                y_pred_all.append(y_pred)\n",
    "            \n",
    "            iters += 1\n",
    "            if np.equal(np.array(y_pred_all\n",
    "                                ), y).all():\n",
    "                break\n",
    "                \n",
    "        self.iters, self.w = iters, w\n",
    "        \n",
    "    def predict(self, X):\n",
    "        y_pred = np.zeros(X.shape[0])\n",
    "        for i in range(X.shape[0]):\n",
    "            y_pred[i] = (np.sum(X[i] * self.w) > 0.5).astype(int)\n",
    "        return y_pred"
   ]
  },
  {
   "cell_type": "code",
   "execution_count": 3,
   "id": "85395a1c",
   "metadata": {},
   "outputs": [
    {
     "name": "stdout",
     "output_type": "stream",
     "text": [
      "(10000, 10) (10000,)\n"
     ]
    }
   ],
   "source": [
    "# Create custom classification dataset\n",
    "from sklearn.datasets import make_classification\n",
    "# define dataset\n",
    "x, y = make_classification(n_samples=10000, n_features=10, random_state=1)\n",
    "# summarize the dataset\n",
    "print(x.shape, y.shape)"
   ]
  },
  {
   "cell_type": "code",
   "execution_count": 4,
   "id": "277b1107",
   "metadata": {},
   "outputs": [],
   "source": [
    "# splitting X and y into training and testing sets\n",
    "from sklearn.model_selection import train_test_split\n",
    "X_train, X_test, y_train, y_test = train_test_split(x, y, test_size=0.20, random_state=1)"
   ]
  },
  {
   "cell_type": "code",
   "execution_count": 5,
   "id": "5985de30",
   "metadata": {},
   "outputs": [],
   "source": [
    "# cerate perceptron model\n",
    "clf = Perceptron()\n",
    "clf.fit(X_train, y_train)"
   ]
  },
  {
   "cell_type": "code",
   "execution_count": 6,
   "id": "740cde77",
   "metadata": {},
   "outputs": [],
   "source": [
    "y_pred = clf.predict(y_test)"
   ]
  },
  {
   "cell_type": "code",
   "execution_count": 7,
   "id": "34f7f748",
   "metadata": {},
   "outputs": [
    {
     "name": "stdout",
     "output_type": "stream",
     "text": [
      "perceptron model accuracy(in %): 50.7\n"
     ]
    }
   ],
   "source": [
    "from sklearn import metrics\n",
    "print(\"perceptron model accuracy(in %):\", metrics.accuracy_score(y_test, y_pred)*100)"
   ]
  },
  {
   "cell_type": "markdown",
   "id": "f320bcb3",
   "metadata": {},
   "source": [
    "### 3. MLP"
   ]
  },
  {
   "cell_type": "code",
   "execution_count": 8,
   "id": "2990bf1e",
   "metadata": {},
   "outputs": [],
   "source": [
    "import pandas as pd\n",
    "from sklearn.model_selection import train_test_split \n",
    "from sklearn.neural_network import MLPClassifier \n",
    "from sklearn.metrics import classification_report, confusion_matrix\n",
    "\n",
    "from sklearn.datasets import load_iris\n",
    "iris = load_iris()\n",
    "\n",
    "# store the feature matrix (x) and response vector (y)\n",
    "x = iris.data\n",
    "y = iris.target"
   ]
  },
  {
   "cell_type": "code",
   "execution_count": 9,
   "id": "c144c9b3",
   "metadata": {},
   "outputs": [],
   "source": [
    "# Perform train test split\n",
    "x_train, x_test, y_train, y_test = train_test_split(x, y, test_size = 0.20)  "
   ]
  },
  {
   "cell_type": "code",
   "execution_count": 10,
   "id": "2c464a83",
   "metadata": {},
   "outputs": [
    {
     "name": "stdout",
     "output_type": "stream",
     "text": [
      "[1 2 2 1 0 0 2 0 2 2 2 1 1 2 2 1 2 2 1 0 2 0 2 1 0 2 0 2 2 2]\n"
     ]
    }
   ],
   "source": [
    "# the MLP- Multilayer Perceptron\n",
    "mlp = MLPClassifier(hidden_layer_sizes=(10, 10, 10), max_iter=1000)  \n",
    "mlp.fit(x_train, y_train)\n",
    "\n",
    "predictions = mlp.predict(x_test)\n",
    "print(predictions)"
   ]
  },
  {
   "cell_type": "code",
   "execution_count": 11,
   "id": "bbba0288",
   "metadata": {},
   "outputs": [
    {
     "name": "stdout",
     "output_type": "stream",
     "text": [
      "[[ 7  0  0]\n",
      " [ 0  7  2]\n",
      " [ 0  0 14]]\n",
      "              precision    recall  f1-score   support\n",
      "\n",
      "           0       1.00      1.00      1.00         7\n",
      "           1       1.00      0.78      0.88         9\n",
      "           2       0.88      1.00      0.93        14\n",
      "\n",
      "    accuracy                           0.93        30\n",
      "   macro avg       0.96      0.93      0.94        30\n",
      "weighted avg       0.94      0.93      0.93        30\n",
      "\n"
     ]
    }
   ],
   "source": [
    "# Last thing: evaluation of algorithm performance in classifying flowers\n",
    "print(confusion_matrix(y_test, predictions))  \n",
    "print(classification_report(y_test, predictions))  "
   ]
  },
  {
   "cell_type": "markdown",
   "id": "952982d4",
   "metadata": {},
   "source": [
    "### 4. Backpropagation Learning Algorithm"
   ]
  },
  {
   "cell_type": "code",
   "execution_count": 12,
   "id": "c22c6fef",
   "metadata": {},
   "outputs": [],
   "source": [
    "import numpy as np\n",
    "import pandas as pd\n",
    "from sklearn.datasets import load_iris\n",
    "from sklearn.model_selection import train_test_split\n",
    "import matplotlib.pyplot as plt"
   ]
  },
  {
   "cell_type": "code",
   "execution_count": 13,
   "id": "ca2ee7fb",
   "metadata": {},
   "outputs": [
    {
     "data": {
      "text/plain": [
       "array([[1, 0, 0],\n",
       "       [1, 0, 0],\n",
       "       [1, 0, 0]], dtype=uint8)"
      ]
     },
     "execution_count": 13,
     "metadata": {},
     "output_type": "execute_result"
    }
   ],
   "source": [
    "# Load dataset\n",
    "data = load_iris()\n",
    "\n",
    "# Get features and target variables\n",
    "x=data.data\n",
    "y=data.target\n",
    "\n",
    "# Get dummy variable to setup binary classification\n",
    "y = pd.get_dummies(y).values\n",
    "\n",
    "y[:3]"
   ]
  },
  {
   "cell_type": "code",
   "execution_count": 14,
   "id": "310888f7",
   "metadata": {},
   "outputs": [],
   "source": [
    "def sigmoid(x):\n",
    "    return 1 / (1 + np.exp(-x))\n",
    "\n",
    "def mean_squared_error(y_pred, y_true):\n",
    "    return ((y_pred - y_true)**2).sum() / (2*y_pred.size)\n",
    "    \n",
    "def accuracy(y_pred, y_true):\n",
    "    acc = y_pred.argmax(axis=1) == y_true.argmax(axis=1)\n",
    "    return acc.mean()"
   ]
  },
  {
   "cell_type": "code",
   "execution_count": 15,
   "id": "ef873aea",
   "metadata": {},
   "outputs": [],
   "source": [
    "# perform test train split\n",
    "x_train, x_test, y_train, y_test = train_test_split(x, y, test_size=20, random_state=4)\n",
    "\n",
    "# Initialize variables\n",
    "learning_rate = 0.1\n",
    "iterations = 15000\n",
    "N = y_train.size\n",
    "\n",
    "# number of input features\n",
    "input_size = 4\n",
    "\n",
    "# number of hidden layers neurons\n",
    "hidden_size = 2 \n",
    "\n",
    "# number of neurons at the output layer\n",
    "output_size = 3  \n",
    "\n",
    "# Initialize weights\n",
    "# np.random.seed(10)\n",
    "\n",
    "# initializing weight for the hidden layer\n",
    "W1 = np.random.normal(scale=0.5, size=(input_size, hidden_size))   \n",
    "\n",
    "# initializing weight for the output layer\n",
    "W2 = np.random.normal(scale=0.5, size=(hidden_size , output_size)) "
   ]
  },
  {
   "cell_type": "code",
   "execution_count": 16,
   "id": "1e7229f3",
   "metadata": {},
   "outputs": [],
   "source": [
    "for itr in range(iterations):    \n",
    "    \n",
    "    # feedforward propagation\n",
    "    # on hidden layer\n",
    "    Z1 = np.dot(x_train, W1)\n",
    "    A1 = sigmoid(Z1)\n",
    "\n",
    "    # on output layer\n",
    "    Z2 = np.dot(A1, W2)\n",
    "    A2 = sigmoid(Z2)\n",
    "    \n",
    "    # Calculating error\n",
    "    mse = mean_squared_error(A2, y_train)\n",
    "    acc = accuracy(A2, y_train)\n",
    "    \n",
    "    # backpropagation\n",
    "    E1 = A2 - y_train\n",
    "    dW1 = E1 * A2 * (1 - A2)\n",
    "    \n",
    "    E2 = np.dot(dW1, W2.T)\n",
    "    dW2 = E2 * A1 * (1 - A1)\n",
    "\n",
    "    # weight updates\n",
    "    W2_update = np.dot(A1.T, dW1) / N\n",
    "    W1_update = np.dot(x_train.T, dW2) / N\n",
    "\n",
    "    W2 = W2 - learning_rate * W2_update\n",
    "    W1 = W1 - learning_rate * W1_update"
   ]
  },
  {
   "cell_type": "code",
   "execution_count": 17,
   "id": "1867c90d",
   "metadata": {},
   "outputs": [
    {
     "name": "stdout",
     "output_type": "stream",
     "text": [
      "Accuracy: 0.2\n"
     ]
    }
   ],
   "source": [
    "# feedforward\n",
    "Z1 = np.dot(x_test, W1)\n",
    "A1 = sigmoid(Z1)\n",
    "\n",
    "Z2 = np.dot(A1, W2)\n",
    "A2 = sigmoid(Z2)\n",
    "\n",
    "acc = accuracy(A2, y_test)\n",
    "print(\"Accuracy: {}\".format(acc))"
   ]
  },
  {
   "cell_type": "markdown",
   "id": "1b618631",
   "metadata": {},
   "source": [
    "### 5. Associative Memory"
   ]
  },
  {
   "cell_type": "code",
   "execution_count": 18,
   "id": "90023570",
   "metadata": {},
   "outputs": [],
   "source": [
    "# Create Patterns\n",
    "A = np.array([[1, 1, -1],\n",
    "              [-1, 1, 1],\n",
    "              [-1, -1, 1]])\n"
   ]
  },
  {
   "cell_type": "code",
   "execution_count": 19,
   "id": "5d25ae69",
   "metadata": {},
   "outputs": [
    {
     "name": "stdout",
     "output_type": "stream",
     "text": [
      "[[ 3.  1. -3.]\n",
      " [ 1.  3. -1.]\n",
      " [-3. -1.  3.]]\n"
     ]
    }
   ],
   "source": [
    "# initalize weight matrix\n",
    "W = np.zeros((3,3))\n",
    "\n",
    "for row in A:\n",
    "  W += row * row.reshape((-1, 1))\n",
    "print(W)"
   ]
  },
  {
   "cell_type": "code",
   "execution_count": 20,
   "id": "7890ed90",
   "metadata": {},
   "outputs": [
    {
     "name": "stdout",
     "output_type": "stream",
     "text": [
      "[-1, 1, 1]\n",
      "[1, 1, -1]\n",
      "[-1, -1, 1]\n",
      "[1, 1, -1]\n"
     ]
    }
   ],
   "source": [
    "def recall(pattern):\n",
    "  mul = []\n",
    "  for row in W:\n",
    "    m = pattern * row.T\n",
    "    mul.append(m.sum())\n",
    "  result = [-1 if i<0 else 1 for i in mul]\n",
    "  return result\n",
    "\n",
    "print(recall([-1,1,1]))\n",
    "print(recall([1,1,-1]))\n",
    "print(recall([-1,-1,1]))\n",
    "# test on noisy pattern\n",
    "print(recall([1,1,1]))"
   ]
  },
  {
   "cell_type": "markdown",
   "id": "42220d6f",
   "metadata": {},
   "source": [
    "### 6. Bi-directional Associative Memory"
   ]
  },
  {
   "cell_type": "code",
   "execution_count": 21,
   "id": "306bbc68",
   "metadata": {},
   "outputs": [],
   "source": [
    "# Create Patterns\n",
    "A = np.array([[1, -1, -1, -1, -1, 1],\n",
    "              [-1, 1, 1, -1, -1, -1],\n",
    "              [-1, -1, 1, -1, 1, 1]])\n",
    "\n",
    "B = np.array([[1, 1, -1, -1, -1],\n",
    "              [1, -1, 1, -1, -1],\n",
    "              [-1, 1, 1, 1, -1]])\n"
   ]
  },
  {
   "cell_type": "code",
   "execution_count": 22,
   "id": "97058cae",
   "metadata": {},
   "outputs": [],
   "source": [
    "# Calculate correlation matrix\n",
    "def createCorrelationMatrix(A, B):\n",
    "  row = len(A[0])\n",
    "  col = len(B[0])\n",
    "  # initalize weight matrix\n",
    "  W = np.zeros((row,col))\n",
    "\n",
    "  for i in range(len(A)):\n",
    "    W += B[i] * A[i].reshape((-1,1))\n",
    "  return W\n",
    "\n",
    "\n",
    "# get correlation matrix\n",
    "Corr = createCorrelationMatrix(A,B)"
   ]
  },
  {
   "cell_type": "code",
   "execution_count": 23,
   "id": "53103c87",
   "metadata": {},
   "outputs": [],
   "source": [
    "def recall_BAM_helper(pattern, Corr):\n",
    "  mul = []\n",
    "  if len(pattern) ==  Corr.shape[0]:\n",
    "    temp_corr = Corr.T\n",
    "  else:\n",
    "    temp_corr = Corr\n",
    "\n",
    "  for row in temp_corr:\n",
    "    m = pattern * row.T\n",
    "    mul.append(m.sum())\n",
    "  # print(mul)\n",
    "  result = [-1 if i<0 else 1 for i in mul]\n",
    "  return result\n",
    "\n",
    "def recallBAM(pattern, Corr, max_iteration=1000):\n",
    "  i = 0\n",
    "  while i < max_iteration:\n",
    "    beta1 = recall_BAM_helper(pattern, Corr)\n",
    "    alpha1 = recall_BAM_helper(beta1, Corr.T)\n",
    "    beta2 = recall_BAM_helper(alpha1, Corr)\n",
    "    i += 1\n",
    "    if beta1 == beta2:\n",
    "      break\n",
    "  \n",
    "  if i == max_iteration:\n",
    "    return beta1, beta2\n",
    "  return beta1"
   ]
  },
  {
   "cell_type": "code",
   "execution_count": 24,
   "id": "b579607d",
   "metadata": {},
   "outputs": [
    {
     "name": "stdout",
     "output_type": "stream",
     "text": [
      "[1, 1, -1, -1, -1]\n",
      "[1, -1, 1, -1, -1]\n",
      "[-1, 1, 1, 1, -1]\n",
      "\n",
      "[1, -1, -1, -1, -1, 1]\n",
      "[-1, 1, 1, -1, -1, -1]\n",
      "[-1, -1, 1, -1, 1, 1]\n",
      "\n",
      "[-1, 1, 1, 1, -1]\n"
     ]
    }
   ],
   "source": [
    "print(recallBAM([1, -1, -1, -1, -1, 1], Corr))\n",
    "print(recallBAM([-1, 1, 1, -1, -1, -1], Corr))\n",
    "print(recallBAM([-1, -1, 1, -1, 1, 1], Corr))\n",
    "print()\n",
    "\n",
    "print(recallBAM([1, 1, -1, -1, -1], Corr))\n",
    "print(recallBAM([1, -1, 1, -1, -1], Corr))\n",
    "print(recallBAM([-1, 1, 1, 1, -1], Corr))\n",
    "\n",
    "print()\n",
    "# noisy patterns\n",
    "print(recallBAM([-1, 1, 1, -1, 1, 1], Corr))\n"
   ]
  },
  {
   "cell_type": "markdown",
   "id": "0122908f",
   "metadata": {},
   "source": [
    "### 7. Self Organizing Map Algorithm"
   ]
  },
  {
   "cell_type": "code",
   "execution_count": 25,
   "id": "301f5813",
   "metadata": {},
   "outputs": [],
   "source": [
    "# !pip install minisom"
   ]
  },
  {
   "cell_type": "code",
   "execution_count": 26,
   "id": "12d7785d",
   "metadata": {},
   "outputs": [],
   "source": [
    "import numpy as np\n",
    "import matplotlib.pyplot as plt\n",
    "import pandas as pd\n",
    "\n",
    "# use Minisom library to implement self orgranising maps\n",
    "from minisom import MiniSom\n",
    "# to suppress warnings\n",
    "from warnings import filterwarnings\n",
    "filterwarnings('ignore')"
   ]
  },
  {
   "cell_type": "code",
   "execution_count": 27,
   "id": "177ec26f",
   "metadata": {},
   "outputs": [
    {
     "data": {
      "text/html": [
       "<div>\n",
       "<style scoped>\n",
       "    .dataframe tbody tr th:only-of-type {\n",
       "        vertical-align: middle;\n",
       "    }\n",
       "\n",
       "    .dataframe tbody tr th {\n",
       "        vertical-align: top;\n",
       "    }\n",
       "\n",
       "    .dataframe thead th {\n",
       "        text-align: right;\n",
       "    }\n",
       "</style>\n",
       "<table border=\"1\" class=\"dataframe\">\n",
       "  <thead>\n",
       "    <tr style=\"text-align: right;\">\n",
       "      <th></th>\n",
       "      <th>CustomerID</th>\n",
       "      <th>A1</th>\n",
       "      <th>A2</th>\n",
       "      <th>A3</th>\n",
       "      <th>A4</th>\n",
       "      <th>A5</th>\n",
       "      <th>A6</th>\n",
       "      <th>A7</th>\n",
       "      <th>A8</th>\n",
       "      <th>A9</th>\n",
       "      <th>A10</th>\n",
       "      <th>A11</th>\n",
       "      <th>A12</th>\n",
       "      <th>A13</th>\n",
       "      <th>A14</th>\n",
       "      <th>Class</th>\n",
       "    </tr>\n",
       "  </thead>\n",
       "  <tbody>\n",
       "    <tr>\n",
       "      <th>0</th>\n",
       "      <td>15776156</td>\n",
       "      <td>1</td>\n",
       "      <td>22.08</td>\n",
       "      <td>11.46</td>\n",
       "      <td>2</td>\n",
       "      <td>4</td>\n",
       "      <td>4</td>\n",
       "      <td>1.585</td>\n",
       "      <td>0</td>\n",
       "      <td>0</td>\n",
       "      <td>0</td>\n",
       "      <td>1</td>\n",
       "      <td>2</td>\n",
       "      <td>100</td>\n",
       "      <td>1213</td>\n",
       "      <td>0</td>\n",
       "    </tr>\n",
       "    <tr>\n",
       "      <th>1</th>\n",
       "      <td>15739548</td>\n",
       "      <td>0</td>\n",
       "      <td>22.67</td>\n",
       "      <td>7.00</td>\n",
       "      <td>2</td>\n",
       "      <td>8</td>\n",
       "      <td>4</td>\n",
       "      <td>0.165</td>\n",
       "      <td>0</td>\n",
       "      <td>0</td>\n",
       "      <td>0</td>\n",
       "      <td>0</td>\n",
       "      <td>2</td>\n",
       "      <td>160</td>\n",
       "      <td>1</td>\n",
       "      <td>0</td>\n",
       "    </tr>\n",
       "    <tr>\n",
       "      <th>2</th>\n",
       "      <td>15662854</td>\n",
       "      <td>0</td>\n",
       "      <td>29.58</td>\n",
       "      <td>1.75</td>\n",
       "      <td>1</td>\n",
       "      <td>4</td>\n",
       "      <td>4</td>\n",
       "      <td>1.250</td>\n",
       "      <td>0</td>\n",
       "      <td>0</td>\n",
       "      <td>0</td>\n",
       "      <td>1</td>\n",
       "      <td>2</td>\n",
       "      <td>280</td>\n",
       "      <td>1</td>\n",
       "      <td>0</td>\n",
       "    </tr>\n",
       "    <tr>\n",
       "      <th>3</th>\n",
       "      <td>15687688</td>\n",
       "      <td>0</td>\n",
       "      <td>21.67</td>\n",
       "      <td>11.50</td>\n",
       "      <td>1</td>\n",
       "      <td>5</td>\n",
       "      <td>3</td>\n",
       "      <td>0.000</td>\n",
       "      <td>1</td>\n",
       "      <td>1</td>\n",
       "      <td>11</td>\n",
       "      <td>1</td>\n",
       "      <td>2</td>\n",
       "      <td>0</td>\n",
       "      <td>1</td>\n",
       "      <td>1</td>\n",
       "    </tr>\n",
       "    <tr>\n",
       "      <th>4</th>\n",
       "      <td>15715750</td>\n",
       "      <td>1</td>\n",
       "      <td>20.17</td>\n",
       "      <td>8.17</td>\n",
       "      <td>2</td>\n",
       "      <td>6</td>\n",
       "      <td>4</td>\n",
       "      <td>1.960</td>\n",
       "      <td>1</td>\n",
       "      <td>1</td>\n",
       "      <td>14</td>\n",
       "      <td>0</td>\n",
       "      <td>2</td>\n",
       "      <td>60</td>\n",
       "      <td>159</td>\n",
       "      <td>1</td>\n",
       "    </tr>\n",
       "  </tbody>\n",
       "</table>\n",
       "</div>"
      ],
      "text/plain": [
       "   CustomerID  A1     A2     A3  A4  A5  A6     A7  A8  A9  A10  A11  A12  \\\n",
       "0    15776156   1  22.08  11.46   2   4   4  1.585   0   0    0    1    2   \n",
       "1    15739548   0  22.67   7.00   2   8   4  0.165   0   0    0    0    2   \n",
       "2    15662854   0  29.58   1.75   1   4   4  1.250   0   0    0    1    2   \n",
       "3    15687688   0  21.67  11.50   1   5   3  0.000   1   1   11    1    2   \n",
       "4    15715750   1  20.17   8.17   2   6   4  1.960   1   1   14    0    2   \n",
       "\n",
       "   A13   A14  Class  \n",
       "0  100  1213      0  \n",
       "1  160     1      0  \n",
       "2  280     1      0  \n",
       "3    0     1      1  \n",
       "4   60   159      1  "
      ]
     },
     "execution_count": 27,
     "metadata": {},
     "output_type": "execute_result"
    }
   ],
   "source": [
    "# Loading Data\n",
    "data = pd.read_csv('./Credit_Card_Applications.csv')\n",
    "data.head()"
   ]
  },
  {
   "cell_type": "code",
   "execution_count": 28,
   "id": "f370e090",
   "metadata": {},
   "outputs": [
    {
     "name": "stdout",
     "output_type": "stream",
     "text": [
      "(690, 16)\n"
     ]
    }
   ],
   "source": [
    "print(data.shape)\n",
    "\n",
    "\n",
    "\n",
    "\n",
    "\n",
    "# Seperate input and output variables\n",
    "x = data.iloc[:, 1:14].values\n",
    "y = data.iloc[:, -1].values"
   ]
  },
  {
   "cell_type": "code",
   "execution_count": 30,
   "id": "048ae371",
   "metadata": {},
   "outputs": [],
   "source": [
    "# define SOM\n",
    "som = MiniSom(x = som_grid_rows, y = som_grid_columns, input_len=13, sigma=sigma, learning_rate=learning_rate)\n",
    "\n",
    "# Initializing the weights\n",
    "som.random_weights_init(x)\n",
    "\n",
    "# Training\n",
    "som.train_random(x, iterations)\n",
    "\n",
    "# Weights\n",
    "wts = som._weights"
   ]
  },
  {
   "cell_type": "code",
   "execution_count": 31,
   "id": "2d09ef7d",
   "metadata": {},
   "outputs": [
    {
     "data": {
      "text/plain": [
       "array([[0.171542  , 0.37514082, 0.44219932, 0.43306407, 0.34974778,\n",
       "        0.31535313, 0.36436955, 0.36613606, 0.50512824, 0.19775212],\n",
       "       [0.32276322, 0.5442339 , 0.55647599, 0.63826895, 0.71109657,\n",
       "        0.53405455, 0.50762678, 0.58896652, 0.52766897, 0.34308395],\n",
       "       [0.36061388, 0.58014668, 0.6603848 , 0.79821271, 0.65008191,\n",
       "        0.87175975, 0.54794228, 0.56364613, 0.5193867 , 0.36860313],\n",
       "       [0.37159078, 0.55997859, 0.74901108, 0.58012615, 0.8397106 ,\n",
       "        0.61899341, 0.71079819, 0.50196276, 0.65319995, 0.36943948],\n",
       "       [0.25429242, 0.69303861, 0.51068077, 0.78870413, 0.69229222,\n",
       "        0.73538696, 0.4820083 , 0.70274466, 0.58625674, 0.38407556],\n",
       "       [0.38889509, 0.43571502, 0.56267155, 0.65796476, 0.65049078,\n",
       "        0.5596785 , 0.52046934, 0.73415457, 0.77873487, 0.42857941],\n",
       "       [0.27457207, 0.54695955, 0.4623616 , 0.67231051, 0.65611442,\n",
       "        0.5972829 , 0.57138542, 0.66563946, 0.67083592, 0.28507369],\n",
       "       [0.3872123 , 0.61596025, 0.70553937, 0.55688112, 0.72563528,\n",
       "        0.67163866, 0.88904098, 0.60239826, 0.69644076, 0.39821466],\n",
       "       [0.32570257, 0.48017244, 0.50553598, 0.65658645, 0.64931315,\n",
       "        1.        , 0.72742855, 0.76911682, 0.58896631, 0.39378514],\n",
       "       [0.16489506, 0.23847009, 0.32094721, 0.26485618, 0.40107453,\n",
       "        0.52890557, 0.42381541, 0.34719349, 0.35704692, 0.23584577]])"
      ]
     },
     "execution_count": 31,
     "metadata": {},
     "output_type": "execute_result"
    }
   ],
   "source": [
    "som.distance_map()"
   ]
  },
  {
   "cell_type": "code",
   "execution_count": 32,
   "id": "01bf7773",
   "metadata": {},
   "outputs": [
    {
     "data": {
      "image/png": "[encoded data removed]",
      "text/plain": [
       "<Figure size 432x288 with 2 Axes>"
      ]
     },
     "metadata": {
      "needs_background": "light"
     },
     "output_type": "display_data"
    }
   ],
   "source": [
    "from pylab import plot, axis, show, pcolor, colorbar, bone\n",
    "bone()\n",
    "pcolor(som.distance_map().T)\n",
    "colorbar() #gives legend\n",
    "\n",
    "markers = ['o', 's']                     # if the observation is fraud then red circular color or else green square\n",
    "colors = ['r', 'g']\n",
    "for i, r in enumerate(x):\n",
    "    w = som.winner(r)\n",
    "    plot(w[0] + 0.5,\n",
    "         w[1] + 0.5,\n",
    "         markers[y[i]],\n",
    "         markeredgecolor = colors[y[i]],\n",
    "         markerfacecolor = 'None',\n",
    "         markersize = 10,\n",
    "         markeredgewidth = 2)\n",
    "show()"
   ]
  },
  {
   "cell_type": "markdown",
   "id": "752120cc",
   "metadata": {},
   "source": [
    "- The markers used to distinguish frauds are:\n",
    "    - Red Circular are Class 0 as fraud customers\n",
    "    - Green Square are Class 1 as not fraud customers\n",
    "- i is the index and r is the vector of each value and for each r first get the winning node\n",
    "- The co-ordinates of the winning node are w[0] and w[1], 0.5 is added to center the marker\n",
    "- s is a square and marker face color is the inside color of the marker\n"
   ]
  },
  {
   "cell_type": "markdown",
   "id": "4f355c68",
   "metadata": {},
   "source": [
    "### 9. LVQ"
   ]
  },
  {
   "cell_type": "code",
   "execution_count": 33,
   "id": "2f3bfa39",
   "metadata": {},
   "outputs": [],
   "source": [
    "# !pip install sklearn-lvq"
   ]
  },
  {
   "cell_type": "code",
   "execution_count": 34,
   "id": "a7801880",
   "metadata": {},
   "outputs": [
    {
     "name": "stdout",
     "output_type": "stream",
     "text": [
      "not implemented!\n",
      "classification accuracy: 0.9666666666666667\n"
     ]
    },
    {
     "data": {
      "image/png": "[encoded data removed]",
      "text/plain": [
       "<Figure size 432x288 with 2 Axes>"
      ]
     },
     "metadata": {
      "needs_background": "light"
     },
     "output_type": "display_data"
    }
   ],
   "source": [
    "import numpy as np\n",
    "import matplotlib.pyplot as plt\n",
    "\n",
    "from sklearn_lvq import GlvqModel\n",
    "from sklearn_lvq.utils import plot2d\n",
    "\n",
    "# load the iris dataset\n",
    "from sklearn.datasets import load_iris\n",
    "iris = load_iris()\n",
    "\n",
    "# store the feature matrix (x) and response vector (y)\n",
    "x = iris.data\n",
    "y = iris.target\n",
    "\n",
    "# splitting X and y into training and testing sets\n",
    "from sklearn.model_selection import train_test_split\n",
    "x_train, x_test, y_train, y_test = train_test_split(x, y, test_size=0.20, random_state=1)\n",
    "\n",
    "# nb_ppc = 100\n",
    "\n",
    "# toy_data = np.append(\n",
    "#     np.random.multivariate_normal([0, 0], np.eye(2) / 2, size=nb_ppc),\n",
    "#     np.random.multivariate_normal([5, 0], np.eye(2) / 2, size=nb_ppc), axis=0)\n",
    "# toy_label = np.append(np.zeros(nb_ppc), np.ones(nb_ppc), axis=0)\n",
    "\n",
    "glvq = GlvqModel()\n",
    "glvq.fit(x_train, y_train)\n",
    "plot2d(glvq, x_train, y_train, 1, 'glvq')\n",
    "\n",
    "print('classification accuracy:', glvq.score(x_test, y_test))\n",
    "plt.show()"
   ]
  },
  {
   "cell_type": "markdown",
   "id": "6a481243",
   "metadata": {},
   "source": [
    "### 10. Convolutional Neural Networks"
   ]
  },
  {
   "cell_type": "code",
   "execution_count": 35,
   "id": "2519a060",
   "metadata": {},
   "outputs": [],
   "source": [
    "#importing the required libraries\n",
    "from tensorflow.keras.datasets import mnist\n",
    "from tensorflow.keras.models import Sequential\n",
    "from tensorflow.keras.layers import Conv2D\n",
    "from tensorflow.keras.layers import MaxPool2D\n",
    "from tensorflow.keras.layers import Flatten\n",
    "# from tensorflow.keras.layers import Dropout\n",
    "from tensorflow.keras.layers import Dense\n",
    "\n",
    "import matplotlib.pyplot as plt\n"
   ]
  },
  {
   "cell_type": "code",
   "execution_count": 36,
   "id": "f08ffd5d",
   "metadata": {},
   "outputs": [
    {
     "name": "stdout",
     "output_type": "stream",
     "text": [
      "Train: X=(60000, 28, 28), y=(60000,)\n",
      "Test: X=(10000, 28, 28), y=(10000,)\n",
      "(60000, 28, 28, 1)\n",
      "(10000, 28, 28, 1)\n"
     ]
    }
   ],
   "source": [
    "#loading data\n",
    "(X_train,Y_train) , (X_test,Y_test) = mnist.load_data()\n",
    "print('Train: X=%s, y=%s' % (X_train.shape, Y_train.shape))\n",
    "print('Test: X=%s, y=%s' % (X_test.shape, Y_test.shape))\n",
    "\n",
    "#reshaping data\n",
    "X_train = X_train.reshape((X_train.shape[0], X_train.shape[1], X_train.shape[2], 1))\n",
    "X_test = X_test.reshape((X_test.shape[0],X_test.shape[1],X_test.shape[2],1)) \n",
    "#checking the shape after reshaping\n",
    "print(X_train.shape)\n",
    "print(X_test.shape)\n",
    "#normalizing the pixel values\n",
    "X_train=X_train/255\n",
    "X_test=X_test/255"
   ]
  },
  {
   "cell_type": "code",
   "execution_count": 37,
   "id": "3b0089b9",
   "metadata": {},
   "outputs": [
    {
     "data": {
      "image/png": "[encoded data removed]",
      "text/plain": [
       "<Figure size 432x288 with 9 Axes>"
      ]
     },
     "metadata": {
      "needs_background": "light"
     },
     "output_type": "display_data"
    }
   ],
   "source": [
    "# plot first few images\n",
    "for i in range(9):\n",
    "    # define subplot\n",
    "    plt.subplot(330 + 1 + i)\n",
    "    # plot raw pixel data\n",
    "    plt.imshow(X_train[i], cmap=plt.get_cmap('gray'))\n",
    "# show the figure\n",
    "plt.show()"
   ]
  },
  {
   "cell_type": "code",
   "execution_count": 38,
   "id": "033581fc",
   "metadata": {},
   "outputs": [
    {
     "name": "stdout",
     "output_type": "stream",
     "text": [
      "Epoch 1/10\n",
      "1875/1875 [==============================] - 56s 21ms/step - loss: 0.1522 - accuracy: 0.9549\n",
      "Epoch 2/10\n",
      "1875/1875 [==============================] - 37s 20ms/step - loss: 0.0524 - accuracy: 0.9843\n",
      "Epoch 3/10\n",
      "1875/1875 [==============================] - 36s 19ms/step - loss: 0.0340 - accuracy: 0.9895\n",
      "Epoch 4/10\n",
      "1875/1875 [==============================] - 37s 20ms/step - loss: 0.0239 - accuracy: 0.9926\n",
      "Epoch 5/10\n",
      "1875/1875 [==============================] - 37s 20ms/step - loss: 0.0158 - accuracy: 0.9953\n",
      "Epoch 6/10\n",
      "1875/1875 [==============================] - 37s 19ms/step - loss: 0.0120 - accuracy: 0.9961\n",
      "Epoch 7/10\n",
      "1875/1875 [==============================] - 37s 20ms/step - loss: 0.0088 - accuracy: 0.9970\n",
      "Epoch 8/10\n",
      "1875/1875 [==============================] - 38s 20ms/step - loss: 0.0068 - accuracy: 0.9978\n",
      "Epoch 9/10\n",
      "1875/1875 [==============================] - 37s 20ms/step - loss: 0.0055 - accuracy: 0.9982\n",
      "Epoch 10/10\n",
      "1875/1875 [==============================] - 37s 20ms/step - loss: 0.0042 - accuracy: 0.9986\n"
     ]
    },
    {
     "data": {
      "text/plain": [
       "<keras.callbacks.History at 0x22c3bb6dd90>"
      ]
     },
     "execution_count": 38,
     "metadata": {},
     "output_type": "execute_result"
    }
   ],
   "source": [
    "#defining model\n",
    "model=Sequential()\n",
    "#adding convolution layer\n",
    "model.add(Conv2D(32,(3,3),activation='relu',input_shape=(28,28,1)))\n",
    "#adding pooling layer\n",
    "model.add(MaxPool2D(2,2))\n",
    "#adding fully connected layer\n",
    "model.add(Flatten())\n",
    "model.add(Dense(100,activation='relu'))\n",
    "#adding output layer\n",
    "model.add(Dense(10,activation='softmax'))\n",
    "#compiling the model\n",
    "model.compile(loss='sparse_categorical_crossentropy',optimizer='adam',metrics=['accuracy'])\n",
    "#fitting the model\n",
    "model.fit(X_train,Y_train,epochs=10)"
   ]
  },
  {
   "cell_type": "code",
   "execution_count": 39,
   "id": "16fa4a91",
   "metadata": {},
   "outputs": [
    {
     "name": "stdout",
     "output_type": "stream",
     "text": [
      "313/313 [==============================] - 2s 6ms/step - loss: 0.0576 - accuracy: 0.9863\n"
     ]
    },
    {
     "data": {
      "text/plain": [
       "[0.05763056129217148, 0.986299991607666]"
      ]
     },
     "execution_count": 39,
     "metadata": {},
     "output_type": "execute_result"
    }
   ],
   "source": [
    "#evaluting the model\n",
    "model.evaluate(X_test,Y_test)"
   ]
  },
  {
   "cell_type": "code",
   "execution_count": null,
   "id": "616f6e13",
   "metadata": {},
   "outputs": [],
   "source": []
  }
 ],
 "metadata": {
  "kernelspec": {
   "display_name": "Python 3 (ipykernel)",
   "language": "python",
   "name": "python3"
  },
  "language_info": {
   "codemirror_mode": {
    "name": "ipython",
    "version": 3
   },
   "file_extension": ".py",
   "mimetype": "text/x-python",
   "name": "python",
   "nbconvert_exporter": "python",
   "pygments_lexer": "ipython3",
   "version": "3.10.5"
  }
 },
 "nbformat": 4,
 "nbformat_minor": 5
}
